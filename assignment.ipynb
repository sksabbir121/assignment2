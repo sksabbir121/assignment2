{
 "cells": [
  {
   "cell_type": "code",
   "execution_count": 4,
   "metadata": {},
   "outputs": [
    {
     "name": "stdout",
     "output_type": "stream",
     "text": [
      "-100,-98,-96,-94,-92,-90,-88,-86,-84,-82,-80,-78,-76,-74,-72,-70,-68,-66,-64,-62,-60,-58,-56,-54,-52,-50,-48,-46,-44,-42,-40,-38,-36,-34,-32,-30,-28,-26,-24,-22,-20,-18,-16,-14,-12,-10,-8,-6,-4,-2,0,"
     ]
    }
   ],
   "source": [
    "for n in range(-100, 1):\n",
    "   if n % 2==0:\n",
    "      print(n, end = \",\")"
   ]
  },
  {
   "cell_type": "code",
   "execution_count": 8,
   "metadata": {},
   "outputs": [
    {
     "name": "stdout",
     "output_type": "stream",
     "text": [
      "-99,-97,-95,-93,-91,-89,-87,-85,-83,-81,-79,-77,-75,-73,-71,-69,-67,-65,-63,-61,-59,-57,-55,-53,-51,-49,-47,-45,-43,-41,-39,-37,-35,-33,-31,-29,-27,-25,-23,-21,-19,-17,-15,-13,-11,-9,-7,-5,-3,-1,"
     ]
    }
   ],
   "source": [
    "for n in range(-100, 1):\n",
    "   if n % 2 != 0:\n",
    "      print(n, end = \",\")"
   ]
  },
  {
   "cell_type": "code",
   "execution_count": 9,
   "metadata": {},
   "outputs": [
    {
     "name": "stdout",
     "output_type": "stream",
     "text": [
      "-10\n",
      "-9\n",
      "-8\n",
      "-7\n",
      "-6\n",
      "-5\n",
      "-4\n",
      "-3\n",
      "-2\n",
      "-1\n",
      "0\n",
      "1\n",
      "2\n",
      "3\n",
      "4\n",
      "5\n",
      "6\n",
      "7\n",
      "8\n",
      "9\n",
      "10\n",
      "11\n",
      "12\n",
      "13\n",
      "14\n",
      "15\n",
      "16\n",
      "17\n",
      "18\n",
      "19\n",
      "20\n",
      "21\n",
      "22\n",
      "23\n",
      "24\n",
      "25\n",
      "26\n",
      "27\n",
      "28\n",
      "29\n",
      "30\n",
      "31\n",
      "32\n",
      "33\n",
      "34\n",
      "35\n",
      "36\n",
      "37\n",
      "38\n",
      "39\n",
      "40\n",
      "41\n",
      "42\n",
      "43\n",
      "44\n",
      "45\n",
      "46\n",
      "47\n",
      "48\n",
      "49\n",
      "50\n",
      "51\n",
      "52\n",
      "53\n",
      "54\n",
      "55\n",
      "56\n",
      "57\n",
      "58\n",
      "59\n",
      "60\n",
      "61\n",
      "62\n",
      "63\n",
      "64\n",
      "65\n",
      "66\n",
      "67\n",
      "68\n",
      "69\n",
      "70\n",
      "71\n",
      "72\n",
      "73\n",
      "74\n",
      "75\n",
      "76\n",
      "77\n",
      "78\n",
      "79\n",
      "80\n",
      "81\n",
      "82\n",
      "83\n",
      "84\n",
      "85\n",
      "86\n",
      "87\n",
      "88\n",
      "89\n",
      "90\n",
      "91\n",
      "92\n",
      "93\n",
      "94\n",
      "95\n",
      "96\n",
      "97\n",
      "98\n",
      "99\n"
     ]
    }
   ],
   "source": [
    "for n in range(-10,100):\n",
    "    print(n)"
   ]
  },
  {
   "cell_type": "code",
   "execution_count": 12,
   "metadata": {},
   "outputs": [
    {
     "name": "stdout",
     "output_type": "stream",
     "text": [
      "1\n",
      "22\n",
      "333\n",
      "4444\n",
      "55555\n",
      "666666\n",
      "7777777\n",
      "88888888\n",
      "999999999\n"
     ]
    }
   ],
   "source": [
    "for i in range(1,10):\n",
    "    for j in range(1,i+1):\n",
    "        print(i,end=\"\")\n",
    "    print()"
   ]
  },
  {
   "cell_type": "code",
   "execution_count": 13,
   "metadata": {},
   "outputs": [
    {
     "name": "stdout",
     "output_type": "stream",
     "text": [
      "                 1 \n",
      "               1 2 1 \n",
      "             1 2 3 2 1 \n",
      "           1 2 3 4 3 2 1 \n",
      "         1 2 3 4 5 4 3 2 1 \n",
      "       1 2 3 4 5 6 5 4 3 2 1 \n",
      "     1 2 3 4 5 6 7 6 5 4 3 2 1 \n",
      "   1 2 3 4 5 6 7 8 7 6 5 4 3 2 1 \n",
      " 1 2 3 4 5 6 7 8 9 8 7 6 5 4 3 2 1 \n",
      "   1 2 3 4 5 6 7 8 \n",
      "     1 2 3 4 5 6 7 \n",
      "       1 2 3 4 5 6 \n",
      "         1 2 3 4 5 \n",
      "           1 2 3 4 \n",
      "             1 2 3 \n",
      "               1 2 \n",
      "                 1 \n"
     ]
    }
   ],
   "source": [
    "n=9\n",
    "\n",
    "for i in range(1,n+1):\n",
    "    num1=1\n",
    "    num2=i-1\n",
    "    print((n-i)*\"  \",end=\" \")\n",
    "    \n",
    "    for j in range(i):\n",
    "        print(num1,end=\" \")\n",
    "        num1+=1\n",
    "        \n",
    "    for k in range(i-1):\n",
    "        print(num2,end=\" \")\n",
    "        num2-=1\n",
    "    print(\"\")\n",
    "\n",
    "for x in range(1,n):\n",
    "    num3=1\n",
    "    print(x*\"  \",end=\" \")\n",
    "    \n",
    "    for y in range(n-x):\n",
    "        print(num3,end=\" \")\n",
    "        num3+=1\n",
    "    print(\"\")"
   ]
  },
  {
   "cell_type": "code",
   "execution_count": 15,
   "metadata": {},
   "outputs": [
    {
     "name": "stdout",
     "output_type": "stream",
     "text": [
      "0\t0\t0\t0\t0\t0\t0\t0\t0\t0\t\n",
      "0\t1\t2\t3\t4\t5\t6\t7\t8\t9\t\n",
      "0\t2\t4\t6\t8\t10\t12\t14\t16\t18\t\n",
      "0\t3\t6\t9\t12\t15\t18\t21\t24\t27\t\n",
      "0\t4\t8\t12\t16\t20\t24\t28\t32\t36\t\n",
      "0\t5\t10\t15\t20\t25\t30\t35\t40\t45\t\n",
      "0\t6\t12\t18\t24\t30\t36\t42\t48\t54\t\n",
      "0\t7\t14\t21\t28\t35\t42\t49\t56\t63\t\n",
      "0\t8\t16\t24\t32\t40\t48\t56\t64\t72\t\n",
      "0\t9\t18\t27\t36\t45\t54\t63\t72\t81\t\n"
     ]
    }
   ],
   "source": [
    "n=9\n",
    "\n",
    "for i in range(n+1):\n",
    "    n1=0\n",
    "    for j in range(n+1):\n",
    "        print(n1*i, end=\"\\t\")\n",
    "        n1+=1\n",
    "    print(\"\")"
   ]
  },
  {
   "cell_type": "code",
   "execution_count": null,
   "metadata": {},
   "outputs": [],
   "source": []
  }
 ],
 "metadata": {
  "kernelspec": {
   "display_name": "Python 3",
   "language": "python",
   "name": "python3"
  },
  "language_info": {
   "codemirror_mode": {
    "name": "ipython",
    "version": 3
   },
   "file_extension": ".py",
   "mimetype": "text/x-python",
   "name": "python",
   "nbconvert_exporter": "python",
   "pygments_lexer": "ipython3",
   "version": "3.7.6"
  }
 },
 "nbformat": 4,
 "nbformat_minor": 4
}
